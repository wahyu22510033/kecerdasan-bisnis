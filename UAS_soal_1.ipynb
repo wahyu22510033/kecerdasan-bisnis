{
  "metadata": {
    "language_info": {
      "codemirror_mode": {
        "name": "python",
        "version": 3
      },
      "file_extension": ".py",
      "mimetype": "text/x-python",
      "name": "python",
      "nbconvert_exporter": "python",
      "pygments_lexer": "ipython3",
      "version": "3.8"
    },
    "kernelspec": {
      "name": "python",
      "display_name": "Python (Pyodide)",
      "language": "python"
    }
  },
  "nbformat_minor": 4,
  "nbformat": 4,
  "cells": [
    {
      "cell_type": "code",
      "source": "corpus = ['users around the world struggled to access Twitter on Wednesday—even as an error message urged “don’t fret… Let’s try again.As intermittent outages spread, the hashtag #TwitterDown began to trend globally. “User reports indicate Twitter is having problems since 7:13 pm EST,” according to outage detection site Downdetector, where many of the issues were reported.Over 10,000 users had reported trouble with accessing the platform on Wednesday evening, according to Downdetector data.Twitter did not immediately respond to a request for comment, but its new owner Elon Musk tweeted on the platform that it “works for me,in response to a user query.Meanwhile, some users, including CNN journalists, were met with an error message that read “Something went wrong, but don’t fret – it’s not your fault. Let’s try again.According to Downdetector, it was desktop users of the platform, rather than those accessing it on mobile, who were most likely to be affected. The outages appear to have been in several countries.Internet watchdog Netblocks said on Wednesday that “Twitter is experiencing international outages affecting the mobile app and features including notifications.” It added that the incident is “not related to country-level internet disruptions or filtering.Musk laid off about half of Twitter’s workforce last month shortly after his takeover of the social media giant, and later pushed out additional employees, including through an ultimatum requiring them to work “hardcore” or exit the company.Musk’s team — seeking to cut costs at the company that the billionaire purchased for $44 billion — has continued to lay off hundreds of additional Twitter staff since then, including top engineering and legal talent, according to multiple recent reports and former employees.',\n          'A popular misconception has emerged about Elon Musk and Tesla: The megabillionaire’s love affair with Twitter is the main reason Tesla shares have lost so much value this year. But Tesla’s steep stock selloff this week proved that the problems at Musk’s car company go well beyond Twitter.Even as Musk signals he may give up his CEO title at Twitter, investors became concerned that the outlook for Tesla’s sales and profit is taking a turn for the worse. A sign of the weakening demand: Tesla has announced a rare sale. The company offered two rebates for buyers who take delivery of a vehicle before the end of the year, initially offering a $3,750 discount earlier this month. Tesla then doubled that rebate to $7,500 Thursday.“Tesla clearly is starting to see demand cracks in China and in the US at a time that EV competition is increasing across the board,” said Dan Ives, tech analyst with Wedbush Securities and a Tesla bull who cut his price target for the stock Friday from $250 to $175. “The price cuts that Tesla enacted was the straw that broke the camel’s back on the stock.']\ncorpus",
      "metadata": {
        "trusted": true
      },
      "execution_count": 11,
      "outputs": [
        {
          "execution_count": 11,
          "output_type": "execute_result",
          "data": {
            "text/plain": "['users around the world struggled to access Twitter on Wednesday—even as an error message urged “don’t fret… Let’s try again.As intermittent outages spread, the hashtag #TwitterDown began to trend globally. “User reports indicate Twitter is having problems since 7:13 pm EST,” according to outage detection site Downdetector, where many of the issues were reported.Over 10,000 users had reported trouble with accessing the platform on Wednesday evening, according to Downdetector data.Twitter did not immediately respond to a request for comment, but its new owner Elon Musk tweeted on the platform that it “works for me,in response to a user query.Meanwhile, some users, including CNN journalists, were met with an error message that read “Something went wrong, but don’t fret – it’s not your fault. Let’s try again.According to Downdetector, it was desktop users of the platform, rather than those accessing it on mobile, who were most likely to be affected. The outages appear to have been in several countries.Internet watchdog Netblocks said on Wednesday that “Twitter is experiencing international outages affecting the mobile app and features including notifications.” It added that the incident is “not related to country-level internet disruptions or filtering.Musk laid off about half of Twitter’s workforce last month shortly after his takeover of the social media giant, and later pushed out additional employees, including through an ultimatum requiring them to work “hardcore” or exit the company.Musk’s team — seeking to cut costs at the company that the billionaire purchased for $44 billion — has continued to lay off hundreds of additional Twitter staff since then, including top engineering and legal talent, according to multiple recent reports and former employees.',\n 'A popular misconception has emerged about Elon Musk and Tesla: The megabillionaire’s love affair with Twitter is the main reason Tesla shares have lost so much value this year. But Tesla’s steep stock selloff this week proved that the problems at Musk’s car company go well beyond Twitter.Even as Musk signals he may give up his CEO title at Twitter, investors became concerned that the outlook for Tesla’s sales and profit is taking a turn for the worse. A sign of the weakening demand: Tesla has announced a rare sale. The company offered two rebates for buyers who take delivery of a vehicle before the end of the year, initially offering a $3,750 discount earlier this month. Tesla then doubled that rebate to $7,500 Thursday.“Tesla clearly is starting to see demand cracks in China and in the US at a time that EV competition is increasing across the board,” said Dan Ives, tech analyst with Wedbush Securities and a Tesla bull who cut his price target for the stock Friday from $250 to $175. “The price cuts that Tesla enacted was the straw that broke the camel’s back on the stock.']"
          },
          "metadata": {}
        }
      ]
    },
    {
      "cell_type": "code",
      "source": "from sklearn.feature_extraction.text import CountVectorizer\n\nvectorizer = CountVectorizer()\nvectorizer_X = vectorizer.fit_transform(corpus).todense()\nvectorizer_X",
      "metadata": {
        "trusted": true
      },
      "execution_count": 12,
      "outputs": [
        {
          "execution_count": 12,
          "output_type": "execute_result",
          "data": {
            "text/plain": "matrix([[ 1,  1,  1,  0,  0,  1,  0,  0,  1,  1,  2,  4,  0,  1,  2,  0,\n          1,  1,  1,  2,  3,  0,  4,  0,  1,  1,  1,  2,  1,  0,  1,  0,\n          1,  0,  1,  0,  1,  1,  0,  0,  0,  2,  0,  0,  0,  0,  0,  0,\n          1,  1,  2,  0,  0,  1,  1,  1,  1,  0,  1,  0,  0,  1,  0,  0,\n          1,  1,  1,  0,  1,  2,  0,  3,  0,  1,  0,  2,  0,  0,  1,  2,\n          1,  0,  1,  1,  1,  1,  1,  1,  1,  3,  1,  2,  0,  0,  1,  0,\n          1,  0,  1,  1,  1,  1,  1,  1,  1,  0,  1,  1,  1,  2,  1,  4,\n          0,  1,  0,  1,  1,  2,  0,  3,  1,  5,  1,  0,  1,  1,  1,  1,\n          1,  1,  2,  1,  1,  0,  0,  0,  1,  0,  1,  1,  1,  0,  2,  1,\n          0,  2,  1,  1,  0,  1,  3,  1,  1,  3,  1,  5,  2,  0,  0,  5,\n          2,  1,  1,  3,  0,  1,  1,  3,  1,  0,  0,  1,  0,  0,  1,  1,\n          1,  0,  1,  1,  0,  0,  0,  1,  1,  2,  2,  1,  1,  1,  1,  1,\n          0,  0,  0,  0,  1,  0,  1,  0,  1,  0,  0,  2,  1,  0,  1,  1,\n          1,  1,  1,  0,  0,  0,  0,  1,  0,  1,  0,  1,  0,  1,  0,  0,\n          1,  5, 13,  1,  1,  0,  1,  1,  0,  0,  0, 14,  1,  1,  1,  2,\n          0,  1,  6,  1,  0,  1,  0,  1,  0,  2,  4,  0,  0,  1,  1,  0,\n          0,  3,  0,  0,  1,  3,  1,  1,  2,  1,  1,  1,  1,  0,  1,  0,\n          1],\n        [ 0,  0,  0,  1,  1,  0,  1,  1,  1,  0,  0,  0,  1,  0,  0,  1,\n          0,  0,  0,  0,  0,  1,  4,  1,  0,  0,  0,  1,  3,  1,  0,  1,\n          0,  1,  0,  1,  0,  0,  1,  1,  1,  1,  1,  1,  1,  1,  1,  1,\n          0,  0,  2,  1,  1,  0,  0,  0,  0,  1,  1,  1,  1,  0,  1,  2,\n          0,  0,  0,  1,  0,  0,  1,  0,  1,  1,  1,  0,  1,  1,  0,  0,\n          0,  1,  1,  0,  0,  0,  0,  0,  0,  4,  0,  0,  1,  1,  0,  1,\n          0,  1,  0,  0,  0,  2,  0,  1,  0,  1,  2,  0,  0,  2,  0,  0,\n          1,  0,  1,  0,  0,  0,  1,  4,  0,  0,  0,  1,  0,  0,  0,  0,\n          0,  0,  0,  0,  0,  1,  1,  1,  0,  1,  0,  0,  0,  1,  0,  0,\n          1,  0,  1,  0,  1,  0,  3,  0,  0,  0,  0,  3,  0,  1,  1,  1,\n          0,  0,  0,  0,  1,  0,  0,  0,  0,  1,  2,  1,  1,  1,  0,  0,\n          0,  1,  0,  0,  1,  1,  1,  0,  0,  0,  0,  0,  0,  0,  0,  1,\n          1,  1,  1,  1,  0,  1,  0,  1,  0,  1,  1,  0,  0,  1,  0,  0,\n          0,  0,  0,  1,  1,  3,  1,  0,  1,  0,  1,  0,  1,  0,  1,  9,\n          0,  6, 16,  0,  1,  3,  0,  0,  1,  1,  1,  3,  0,  0,  0,  0,\n          1,  0,  3,  0,  1,  0,  1,  0,  1,  0,  0,  1,  1,  1,  0,  1,\n          1,  0,  1,  1,  0,  0,  0,  2,  2,  0,  0,  0,  0,  1,  0,  2,\n          0]], dtype=int64)"
          },
          "metadata": {}
        }
      ]
    },
    {
      "cell_type": "code",
      "source": "vectorizer.get_feature_names()",
      "metadata": {
        "trusted": true
      },
      "execution_count": 13,
      "outputs": [
        {
          "execution_count": 13,
          "output_type": "execute_result",
          "data": {
            "text/plain": "['000',\n '10',\n '13',\n '175',\n '250',\n '44',\n '500',\n '750',\n 'about',\n 'access',\n 'accessing',\n 'according',\n 'across',\n 'added',\n 'additional',\n 'affair',\n 'affected',\n 'affecting',\n 'after',\n 'again',\n 'an',\n 'analyst',\n 'and',\n 'announced',\n 'app',\n 'appear',\n 'around',\n 'as',\n 'at',\n 'back',\n 'be',\n 'became',\n 'been',\n 'before',\n 'began',\n 'beyond',\n 'billion',\n 'billionaire',\n 'board',\n 'broke',\n 'bull',\n 'but',\n 'buyers',\n 'camel',\n 'car',\n 'ceo',\n 'china',\n 'clearly',\n 'cnn',\n 'comment',\n 'company',\n 'competition',\n 'concerned',\n 'continued',\n 'costs',\n 'countries',\n 'country',\n 'cracks',\n 'cut',\n 'cuts',\n 'dan',\n 'data',\n 'delivery',\n 'demand',\n 'desktop',\n 'detection',\n 'did',\n 'discount',\n 'disruptions',\n 'don',\n 'doubled',\n 'downdetector',\n 'earlier',\n 'elon',\n 'emerged',\n 'employees',\n 'enacted',\n 'end',\n 'engineering',\n 'error',\n 'est',\n 'ev',\n 'even',\n 'evening',\n 'exit',\n 'experiencing',\n 'fault',\n 'features',\n 'filtering',\n 'for',\n 'former',\n 'fret',\n 'friday',\n 'from',\n 'giant',\n 'give',\n 'globally',\n 'go',\n 'had',\n 'half',\n 'hardcore',\n 'has',\n 'hashtag',\n 'have',\n 'having',\n 'he',\n 'his',\n 'hundreds',\n 'immediately',\n 'in',\n 'incident',\n 'including',\n 'increasing',\n 'indicate',\n 'initially',\n 'intermittent',\n 'international',\n 'internet',\n 'investors',\n 'is',\n 'issues',\n 'it',\n 'its',\n 'ives',\n 'journalists',\n 'laid',\n 'last',\n 'later',\n 'lay',\n 'legal',\n 'let',\n 'level',\n 'likely',\n 'lost',\n 'love',\n 'main',\n 'many',\n 'may',\n 'me',\n 'meanwhile',\n 'media',\n 'megabillionaire',\n 'message',\n 'met',\n 'misconception',\n 'mobile',\n 'month',\n 'most',\n 'much',\n 'multiple',\n 'musk',\n 'netblocks',\n 'new',\n 'not',\n 'notifications',\n 'of',\n 'off',\n 'offered',\n 'offering',\n 'on',\n 'or',\n 'out',\n 'outage',\n 'outages',\n 'outlook',\n 'over',\n 'owner',\n 'platform',\n 'pm',\n 'popular',\n 'price',\n 'problems',\n 'profit',\n 'proved',\n 'purchased',\n 'pushed',\n 'query',\n 'rare',\n 'rather',\n 'read',\n 'reason',\n 'rebate',\n 'rebates',\n 'recent',\n 'related',\n 'reported',\n 'reports',\n 'request',\n 'requiring',\n 'respond',\n 'response',\n 'said',\n 'sale',\n 'sales',\n 'securities',\n 'see',\n 'seeking',\n 'selloff',\n 'several',\n 'shares',\n 'shortly',\n 'sign',\n 'signals',\n 'since',\n 'site',\n 'so',\n 'social',\n 'some',\n 'something',\n 'spread',\n 'staff',\n 'starting',\n 'steep',\n 'stock',\n 'straw',\n 'struggled',\n 'take',\n 'takeover',\n 'taking',\n 'talent',\n 'target',\n 'team',\n 'tech',\n 'tesla',\n 'than',\n 'that',\n 'the',\n 'them',\n 'then',\n 'this',\n 'those',\n 'through',\n 'thursday',\n 'time',\n 'title',\n 'to',\n 'top',\n 'trend',\n 'trouble',\n 'try',\n 'turn',\n 'tweeted',\n 'twitter',\n 'twitterdown',\n 'two',\n 'ultimatum',\n 'up',\n 'urged',\n 'us',\n 'user',\n 'users',\n 'value',\n 'vehicle',\n 'was',\n 'watchdog',\n 'weakening',\n 'wedbush',\n 'wednesday',\n 'week',\n 'well',\n 'went',\n 'were',\n 'where',\n 'who',\n 'with',\n 'work',\n 'workforce',\n 'works',\n 'world',\n 'worse',\n 'wrong',\n 'year',\n 'your']"
          },
          "metadata": {}
        }
      ]
    },
    {
      "cell_type": "code",
      "source": "from sklearn.metrics.pairwise import euclidean_distances\n\nfor i in range (len(vectorizer_X)) :\n    for j in range (i, len (vectorizer_X)):\n        if i == j:\n            continue\n            jarak = euclidean_distances(vectorizer_X[i], vectorizer_X[j])\n            print(f'jarak dokumen {i+1} dan {j+1}: {jarak}')",
      "metadata": {
        "trusted": true
      },
      "execution_count": 14,
      "outputs": []
    },
    {
      "cell_type": "code",
      "source": "from sklearn.feature_extraction.text import CountVectorizer\n\nvectorizer = CountVectorizer(stop_words='english')\nvectorizer_X = vectorizer.fit_transform(corpus).todense()\nvectorizer_X",
      "metadata": {
        "trusted": true
      },
      "execution_count": 15,
      "outputs": [
        {
          "execution_count": 15,
          "output_type": "execute_result",
          "data": {
            "text/plain": "matrix([[1, 1, 1, 0, 0, 1, 0, 0, 1, 2, 4, 1, 2, 0, 1, 1, 0, 0, 1, 1, 1,\n         1, 1, 0, 0, 0, 0, 0, 0, 0, 0, 0, 1, 1, 2, 0, 0, 1, 1, 1, 1, 0,\n         1, 0, 0, 1, 0, 0, 1, 1, 1, 0, 1, 2, 0, 3, 0, 1, 0, 2, 0, 0, 1,\n         2, 1, 0, 1, 1, 1, 1, 1, 1, 2, 0, 1, 1, 1, 1, 1, 1, 1, 1, 1, 4,\n         0, 1, 0, 1, 1, 2, 0, 1, 0, 1, 1, 1, 1, 1, 2, 1, 1, 0, 0, 0, 1,\n         0, 2, 1, 0, 2, 1, 1, 3, 1, 1, 1, 0, 0, 1, 3, 0, 1, 3, 1, 0, 0,\n         1, 0, 0, 1, 1, 1, 0, 1, 0, 0, 0, 1, 1, 2, 2, 1, 1, 1, 1, 1, 0,\n         0, 0, 1, 0, 0, 1, 0, 0, 1, 1, 1, 1, 0, 0, 0, 0, 1, 1, 0, 1, 0,\n         1, 0, 0, 0, 0, 0, 1, 1, 2, 0, 1, 6, 1, 1, 1, 2, 4, 0, 0, 1, 0,\n         0, 3, 0, 1, 1, 1, 1, 1, 0, 1, 0],\n        [0, 0, 0, 1, 1, 0, 1, 1, 0, 0, 0, 0, 0, 1, 0, 0, 1, 1, 0, 0, 0,\n         0, 0, 1, 1, 1, 1, 1, 1, 1, 1, 1, 0, 0, 2, 1, 1, 0, 0, 0, 0, 1,\n         1, 1, 1, 0, 1, 2, 0, 0, 0, 1, 0, 0, 1, 0, 1, 1, 1, 0, 1, 1, 0,\n         0, 0, 1, 0, 0, 0, 0, 0, 0, 0, 1, 0, 0, 0, 0, 0, 0, 0, 0, 0, 0,\n         1, 0, 1, 0, 0, 0, 1, 0, 1, 0, 0, 0, 0, 0, 0, 0, 0, 1, 1, 1, 0,\n         1, 0, 0, 1, 0, 1, 0, 3, 0, 0, 0, 1, 1, 0, 0, 1, 0, 0, 0, 1, 2,\n         1, 1, 1, 0, 0, 0, 1, 0, 1, 1, 1, 0, 0, 0, 0, 0, 0, 0, 0, 1, 1,\n         1, 1, 0, 1, 1, 0, 1, 1, 0, 0, 0, 0, 1, 1, 3, 1, 0, 0, 1, 0, 1,\n         0, 1, 9, 1, 1, 1, 0, 0, 0, 1, 0, 3, 0, 0, 0, 0, 0, 1, 1, 0, 1,\n         1, 0, 1, 0, 0, 0, 0, 0, 1, 0, 2]], dtype=int64)"
          },
          "metadata": {}
        }
      ]
    },
    {
      "cell_type": "code",
      "source": "vectorizer.get_feature_names()",
      "metadata": {
        "trusted": true
      },
      "execution_count": 16,
      "outputs": [
        {
          "execution_count": 16,
          "output_type": "execute_result",
          "data": {
            "text/plain": "['000',\n '10',\n '13',\n '175',\n '250',\n '44',\n '500',\n '750',\n 'access',\n 'accessing',\n 'according',\n 'added',\n 'additional',\n 'affair',\n 'affected',\n 'affecting',\n 'analyst',\n 'announced',\n 'app',\n 'appear',\n 'began',\n 'billion',\n 'billionaire',\n 'board',\n 'broke',\n 'bull',\n 'buyers',\n 'camel',\n 'car',\n 'ceo',\n 'china',\n 'clearly',\n 'cnn',\n 'comment',\n 'company',\n 'competition',\n 'concerned',\n 'continued',\n 'costs',\n 'countries',\n 'country',\n 'cracks',\n 'cut',\n 'cuts',\n 'dan',\n 'data',\n 'delivery',\n 'demand',\n 'desktop',\n 'detection',\n 'did',\n 'discount',\n 'disruptions',\n 'don',\n 'doubled',\n 'downdetector',\n 'earlier',\n 'elon',\n 'emerged',\n 'employees',\n 'enacted',\n 'end',\n 'engineering',\n 'error',\n 'est',\n 'ev',\n 'evening',\n 'exit',\n 'experiencing',\n 'fault',\n 'features',\n 'filtering',\n 'fret',\n 'friday',\n 'giant',\n 'globally',\n 'half',\n 'hardcore',\n 'hashtag',\n 'having',\n 'hundreds',\n 'immediately',\n 'incident',\n 'including',\n 'increasing',\n 'indicate',\n 'initially',\n 'intermittent',\n 'international',\n 'internet',\n 'investors',\n 'issues',\n 'ives',\n 'journalists',\n 'laid',\n 'later',\n 'lay',\n 'legal',\n 'let',\n 'level',\n 'likely',\n 'lost',\n 'love',\n 'main',\n 'media',\n 'megabillionaire',\n 'message',\n 'met',\n 'misconception',\n 'mobile',\n 'month',\n 'multiple',\n 'musk',\n 'netblocks',\n 'new',\n 'notifications',\n 'offered',\n 'offering',\n 'outage',\n 'outages',\n 'outlook',\n 'owner',\n 'platform',\n 'pm',\n 'popular',\n 'price',\n 'problems',\n 'profit',\n 'proved',\n 'purchased',\n 'pushed',\n 'query',\n 'rare',\n 'read',\n 'reason',\n 'rebate',\n 'rebates',\n 'recent',\n 'related',\n 'reported',\n 'reports',\n 'request',\n 'requiring',\n 'respond',\n 'response',\n 'said',\n 'sale',\n 'sales',\n 'securities',\n 'seeking',\n 'selloff',\n 'shares',\n 'shortly',\n 'sign',\n 'signals',\n 'site',\n 'social',\n 'spread',\n 'staff',\n 'starting',\n 'steep',\n 'stock',\n 'straw',\n 'struggled',\n 'takeover',\n 'taking',\n 'talent',\n 'target',\n 'team',\n 'tech',\n 'tesla',\n 'thursday',\n 'time',\n 'title',\n 'trend',\n 'trouble',\n 'try',\n 'turn',\n 'tweeted',\n 'twitter',\n 'twitterdown',\n 'ultimatum',\n 'urged',\n 'user',\n 'users',\n 'value',\n 'vehicle',\n 'watchdog',\n 'weakening',\n 'wedbush',\n 'wednesday',\n 'week',\n 'went',\n 'work',\n 'workforce',\n 'works',\n 'world',\n 'worse',\n 'wrong',\n 'year']"
          },
          "metadata": {}
        }
      ]
    },
    {
      "cell_type": "code",
      "source": "",
      "metadata": {},
      "execution_count": null,
      "outputs": []
    }
  ]
}